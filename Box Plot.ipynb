{
  "cells": [
    {
      "metadata": {
        "trusted": true
      },
      "cell_type": "code",
      "source": "import matplotlib",
      "execution_count": 32,
      "outputs": []
    },
    {
      "metadata": {
        "trusted": true
      },
      "cell_type": "code",
      "source": "import matplotlib.pyplot as plt",
      "execution_count": 33,
      "outputs": []
    },
    {
      "metadata": {
        "trusted": true
      },
      "cell_type": "code",
      "source": "import random \ncollection = [random.random() for i in range(20)]",
      "execution_count": 34,
      "outputs": []
    },
    {
      "metadata": {
        "trusted": true
      },
      "cell_type": "code",
      "source": "collection",
      "execution_count": 35,
      "outputs": [
        {
          "output_type": "execute_result",
          "execution_count": 35,
          "data": {
            "text/plain": "[0.12644914602625124,\n 0.4378947304614408,\n 0.2622936741082862,\n 0.3117571636181864,\n 0.9219725390066992,\n 0.37835931515604115,\n 0.0633998500695303,\n 0.6456725080950432,\n 0.7157517659609618,\n 0.9098876390756697,\n 0.8197364417563902,\n 0.12789219820619468,\n 0.7974653689319795,\n 0.16812037591547035,\n 0.831414941821739,\n 0.4998365497642395,\n 0.08009245960325284,\n 0.9787211074052513,\n 0.8889494406913792,\n 0.36937390397594927]"
          },
          "metadata": {}
        }
      ]
    },
    {
      "metadata": {
        "trusted": true
      },
      "cell_type": "code",
      "source": "max(collection)",
      "execution_count": 36,
      "outputs": [
        {
          "output_type": "execute_result",
          "execution_count": 36,
          "data": {
            "text/plain": "0.9787211074052513"
          },
          "metadata": {}
        }
      ]
    },
    {
      "metadata": {
        "trusted": true
      },
      "cell_type": "code",
      "source": "min(collection)",
      "execution_count": 37,
      "outputs": [
        {
          "output_type": "execute_result",
          "execution_count": 37,
          "data": {
            "text/plain": "0.0633998500695303"
          },
          "metadata": {}
        }
      ]
    },
    {
      "metadata": {
        "trusted": true
      },
      "cell_type": "code",
      "source": "max(collection) - min(collection)",
      "execution_count": 38,
      "outputs": [
        {
          "output_type": "execute_result",
          "execution_count": 38,
          "data": {
            "text/plain": "0.915321257335721"
          },
          "metadata": {}
        }
      ]
    },
    {
      "metadata": {
        "trusted": true
      },
      "cell_type": "code",
      "source": "from statistics import median",
      "execution_count": 39,
      "outputs": []
    },
    {
      "metadata": {
        "trusted": true
      },
      "cell_type": "code",
      "source": "median(collection)",
      "execution_count": 40,
      "outputs": [
        {
          "output_type": "execute_result",
          "execution_count": 40,
          "data": {
            "text/plain": "0.46886564011284015"
          },
          "metadata": {}
        }
      ]
    },
    {
      "metadata": {
        "trusted": true
      },
      "cell_type": "code",
      "source": "plt.style.use(\"fivethirtyeight\")\nplt.figure(figsize=(10,6))\n\n\nplt.boxplot(collection)\n\nplt.tight_layout()\nplt.savefig(\"boxplot.pdf\") \nplt.show()",
      "execution_count": 41,
      "outputs": [
        {
          "output_type": "display_data",
          "data": {
            "image/png": "[encoded data removed]",
            "text/plain": "<Figure size 720x432 with 1 Axes>"
          },
          "metadata": {}
        }
      ]
    },
    {
      "metadata": {},
      "cell_type": "markdown",
      "source": "# Side by side boxplot"
    },
    {
      "metadata": {
        "trusted": true
      },
      "cell_type": "code",
      "source": "import random\ncollection_1 = [random.random() for i in range(10)]\ncollection_2 = [random.random() for i in range(15)]\ncollection_3 = [random.random() for i in range(20)]\ncollection_4 = [random.random() for i in range(15)]\n\ncollections = [collection_1, collection_2, collection_3, collection_4]\nplt.boxplot(collections)\nplt.show()\n",
      "execution_count": 42,
      "outputs": [
        {
          "output_type": "display_data",
          "data": {
            "image/png": "[encoded data removed]",
            "text/plain": "<Figure size 432x288 with 1 Axes>"
          },
          "metadata": {}
        }
      ]
    },
    {
      "metadata": {
        "trusted": true
      },
      "cell_type": "code",
      "source": "collections",
      "execution_count": 43,
      "outputs": [
        {
          "output_type": "execute_result",
          "execution_count": 43,
          "data": {
            "text/plain": "[[0.13138108730618747,\n  0.9202502125737833,\n  0.979592468251926,\n  0.7284461641808503,\n  0.03923822111651443,\n  0.9124586115231611,\n  0.7749722409467419,\n  0.26046713266788335,\n  0.7219245402586604,\n  0.04151357566789593],\n [0.10471447409762402,\n  0.24936104610905752,\n  0.002687486112346593,\n  0.9108887303054696,\n  0.057086316269178705,\n  0.50027854768346,\n  0.7877855390147538,\n  0.5032073489538703,\n  0.719894064071424,\n  0.04291136141185925,\n  0.9098713245308901,\n  0.26049386344455616,\n  0.03937569529113916,\n  0.8885033717668853,\n  0.9042122573562612],\n [0.7502745184707608,\n  0.886321088199136,\n  0.39543944712275647,\n  0.02253332217333448,\n  0.022314348111702964,\n  0.42228878482826593,\n  0.014388874828774711,\n  0.33989669605610895,\n  0.32442299883801806,\n  0.9103997716513508,\n  0.7579440454070943,\n  0.7046959422222968,\n  0.3585300219462868,\n  0.9211323409211332,\n  0.997059531416115,\n  0.08162586731922061,\n  0.9535680668762533,\n  0.1593347413116255,\n  0.7692984052129517,\n  0.5960148175501916],\n [0.5384622076087766,\n  0.5245222197029957,\n  0.6705957676288312,\n  0.2488272523893903,\n  0.4858372564660779,\n  0.7926156785238831,\n  0.17965884498799845,\n  0.6681977131774213,\n  0.8981333779868956,\n  0.2402648563649863,\n  0.20085293177220287,\n  0.9528858268132567,\n  0.8718810093194674,\n  0.7285669537147096,\n  0.3928800668060234]]"
          },
          "metadata": {}
        }
      ]
    },
    {
      "metadata": {
        "trusted": true
      },
      "cell_type": "code",
      "source": "collections[0]",
      "execution_count": 44,
      "outputs": [
        {
          "output_type": "execute_result",
          "execution_count": 44,
          "data": {
            "text/plain": "[0.13138108730618747,\n 0.9202502125737833,\n 0.979592468251926,\n 0.7284461641808503,\n 0.03923822111651443,\n 0.9124586115231611,\n 0.7749722409467419,\n 0.26046713266788335,\n 0.7219245402586604,\n 0.04151357566789593]"
          },
          "metadata": {}
        }
      ]
    },
    {
      "metadata": {
        "trusted": true
      },
      "cell_type": "code",
      "source": "collections[1]",
      "execution_count": 45,
      "outputs": [
        {
          "output_type": "execute_result",
          "execution_count": 45,
          "data": {
            "text/plain": "[0.10471447409762402,\n 0.24936104610905752,\n 0.002687486112346593,\n 0.9108887303054696,\n 0.057086316269178705,\n 0.50027854768346,\n 0.7877855390147538,\n 0.5032073489538703,\n 0.719894064071424,\n 0.04291136141185925,\n 0.9098713245308901,\n 0.26049386344455616,\n 0.03937569529113916,\n 0.8885033717668853,\n 0.9042122573562612]"
          },
          "metadata": {}
        }
      ]
    },
    {
      "metadata": {
        "trusted": true
      },
      "cell_type": "code",
      "source": "plt.style.use(\"fivethirtyeight\")\nplt.figure(figsize=(10,6))\n\n\nplt.boxplot(collections)\nplt.tight_layout()\nplt.savefig(\"side_boxplot.pdf\")\nplt.show()\n",
      "execution_count": 49,
      "outputs": [
        {
          "output_type": "display_data",
          "data": {
            "image/png": "[encoded data removed]",
            "text/plain": "<Figure size 720x432 with 1 Axes>"
          },
          "metadata": {}
        }
      ]
    },
    {
      "metadata": {
        "trusted": true
      },
      "cell_type": "code",
      "source": "from statistics import median",
      "execution_count": 53,
      "outputs": []
    },
    {
      "metadata": {
        "trusted": true
      },
      "cell_type": "code",
      "source": "median(collection_1)",
      "execution_count": 54,
      "outputs": [
        {
          "output_type": "execute_result",
          "execution_count": 54,
          "data": {
            "text/plain": "0.7251853522197553"
          },
          "metadata": {}
        }
      ]
    },
    {
      "metadata": {
        "trusted": true
      },
      "cell_type": "code",
      "source": "max(collection_1)",
      "execution_count": 55,
      "outputs": [
        {
          "output_type": "execute_result",
          "execution_count": 55,
          "data": {
            "text/plain": "0.979592468251926"
          },
          "metadata": {}
        }
      ]
    },
    {
      "metadata": {
        "trusted": true
      },
      "cell_type": "code",
      "source": "min(collection_1)",
      "execution_count": 56,
      "outputs": [
        {
          "output_type": "execute_result",
          "execution_count": 56,
          "data": {
            "text/plain": "0.03923822111651443"
          },
          "metadata": {}
        }
      ]
    },
    {
      "metadata": {
        "trusted": true
      },
      "cell_type": "code",
      "source": "",
      "execution_count": null,
      "outputs": []
    },
    {
      "metadata": {
        "trusted": true
      },
      "cell_type": "code",
      "source": "",
      "execution_count": null,
      "outputs": []
    },
    {
      "metadata": {
        "trusted": true
      },
      "cell_type": "code",
      "source": "",
      "execution_count": null,
      "outputs": []
    },
    {
      "metadata": {
        "trusted": true
      },
      "cell_type": "code",
      "source": "",
      "execution_count": null,
      "outputs": []
    },
    {
      "metadata": {
        "trusted": true
      },
      "cell_type": "code",
      "source": "",
      "execution_count": null,
      "outputs": []
    },
    {
      "metadata": {
        "trusted": true
      },
      "cell_type": "code",
      "source": "",
      "execution_count": null,
      "outputs": []
    }
  ],
  "metadata": {
    "kernelspec": {
      "name": "python36",
      "display_name": "Python 3.6",
      "language": "python"
    },
    "language_info": {
      "mimetype": "text/x-python",
      "nbconvert_exporter": "python",
      "name": "python",
      "pygments_lexer": "ipython3",
      "version": "3.6.6",
      "file_extension": ".py",
      "codemirror_mode": {
        "version": 3,
        "name": "ipython"
      }
    }
  },
  "nbformat": 4,
  "nbformat_minor": 2
}